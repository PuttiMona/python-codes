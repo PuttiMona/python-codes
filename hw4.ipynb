{
 "cells": [
  {
   "cell_type": "code",
   "execution_count": 12,
   "id": "0c83f01d-4ef8-435a-9888-c0bff1321a9f",
   "metadata": {},
   "outputs": [
    {
     "name": "stdin",
     "output_type": "stream",
     "text": [
      "enter the temperature in celsius: 34\n"
     ]
    },
    {
     "name": "stdout",
     "output_type": "stream",
     "text": [
      "temperature in fahrenheit is: 93.2\n"
     ]
    }
   ],
   "source": [
    "#convert a temperature from celsious to Fahrenheit\n",
    "celsius=int(input(\"enter the temperature in celsius:\"))\n",
    "F=(1.8*celsius)+32\n",
    "print(\"temperature in fahrenheit is:\",F)\n",
    "   "
   ]
  },
  {
   "cell_type": "code",
   "execution_count": 15,
   "id": "b061b836-121a-47c6-a953-4efa1ef06ad1",
   "metadata": {},
   "outputs": [
    {
     "name": "stdout",
     "output_type": "stream",
     "text": [
      "the second largest number is: 8\n"
     ]
    }
   ],
   "source": [
    "#second largest element in the list\n",
    "list_a=[1,2,9,4,8,6,5]\n",
    "list_b=list(set(list_a))\n",
    "list_b.sort()\n",
    "print(\"the second largest number is:\",list_b[-2])\n",
    "    "
   ]
  },
  {
   "cell_type": "code",
   "execution_count": 19,
   "id": "f5a286cb-e42c-4939-b289-81f6e1560eed",
   "metadata": {},
   "outputs": [
    {
     "name": "stdout",
     "output_type": "stream",
     "text": [
      "sum of even numbers= 20\n"
     ]
    }
   ],
   "source": [
    "# find sum of all even numbers in a list\n",
    "list=[3,4,6,8,2,5]\n",
    "sum=0\n",
    "for i in list:\n",
    "    if i%2==0:\n",
    "          sum=sum+i\n",
    "print(\"sum of even numbers=\",sum)\n",
    "   "
   ]
  },
  {
   "cell_type": "code",
   "execution_count": 22,
   "id": "e710ec7e-8366-468d-b23e-23d1d8de3ec0",
   "metadata": {},
   "outputs": [
    {
     "name": "stdin",
     "output_type": "stream",
     "text": [
      "enter the string: manasa\n"
     ]
    },
    {
     "name": "stdout",
     "output_type": "stream",
     "text": [
      "number of vowels= 3\n"
     ]
    }
   ],
   "source": [
    "# count the number of vowels in a string\n",
    "str=input(\"enter the string:\")\n",
    "count=0\n",
    "for i in range(0,len(str)):\n",
    "    ch=str[i]\n",
    "    if(ch=='a'or ch=='e'or ch=='i'or ch=='o'or ch=='u'):\n",
    "            count=count+1\n",
    "if count==0:\n",
    "    print(\"no vowels found\")\n",
    "else:\n",
    "      print(\"number of vowels=\",count)  "
   ]
  },
  {
   "cell_type": "code",
   "execution_count": 24,
   "id": "f5353f1e-cb7d-4965-9ce0-3bcd9854a1d9",
   "metadata": {},
   "outputs": [
    {
     "name": "stdin",
     "output_type": "stream",
     "text": [
      "enter the sentence: reversed\n"
     ]
    },
    {
     "name": "stdout",
     "output_type": "stream",
     "text": [
      "reversed string=  d e s r e v e r \n"
     ]
    }
   ],
   "source": [
    "#reverse the words in a given sentence\n",
    "string_1=input(\"enter the sentence:\")\n",
    "string_2=\" \"\n",
    "reversed_string=string_1[::-1]\n",
    "for i in reversed_string:\n",
    "        string_2=string_2+i+\" \"\n",
    "print(\"reversed string=\",string_2) \n",
    " "
   ]
  },
  {
   "cell_type": "code",
   "execution_count": 29,
   "id": "5a99e9b2-b183-487c-8d61-4f34ea710809",
   "metadata": {},
   "outputs": [
    {
     "name": "stdout",
     "output_type": "stream",
     "text": [
      "the count of 1 is: 1\n",
      "the count of 2 is: 1\n",
      "the count of 3 is: 1\n",
      "the count of 4 is: 1\n",
      "the count of 5 is: 1\n",
      "the count of 6 is: 1\n",
      "the count of 7 is: 1\n"
     ]
    }
   ],
   "source": [
    "# count the occurence of each element in a list\n",
    "list=[1,2,3,4,5,6,7]\n",
    "for i in list:\n",
    "     count=list.count(i)\n",
    "     print(\"the count of\",i,\"is:\",count)\n",
    "  "
   ]
  },
  {
   "cell_type": "code",
   "execution_count": null,
   "id": "1fde138b-da9e-47e4-910e-9b6c4234595d",
   "metadata": {},
   "outputs": [],
   "source": []
  }
 ],
 "metadata": {
  "kernelspec": {
   "display_name": "Python 3 (ipykernel)",
   "language": "python",
   "name": "python3"
  },
  "language_info": {
   "codemirror_mode": {
    "name": "ipython",
    "version": 3
   },
   "file_extension": ".py",
   "mimetype": "text/x-python",
   "name": "python",
   "nbconvert_exporter": "python",
   "pygments_lexer": "ipython3",
   "version": "3.12.3"
  }
 },
 "nbformat": 4,
 "nbformat_minor": 5
}
