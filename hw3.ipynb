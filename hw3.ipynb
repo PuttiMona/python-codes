{
 "cells": [
  {
   "cell_type": "code",
   "execution_count": 1,
   "id": "382d83a6-950f-4caa-9812-661067211faa",
   "metadata": {},
   "outputs": [
    {
     "name": "stdin",
     "output_type": "stream",
     "text": [
      "enter the value of a: 20\n",
      "enter the value of b: 3\n",
      "enter the operator: -\n"
     ]
    },
    {
     "name": "stdout",
     "output_type": "stream",
     "text": [
      "difference= 17\n"
     ]
    }
   ],
   "source": [
    "#arithematic operations\n",
    "a=int(input(\"enter the value of a:\"))\n",
    "b=int(input(\"enter the value of b:\"))\n",
    "oper=input(\"enter the operator:\")\n",
    "match oper:\n",
    "           case\"+\":print(\"sum=\",a+b)\n",
    "           case\"-\":print(\"difference=\",a-b)\n",
    "           case\"*\":print(\"product=\",a*b)\n",
    "           case\"/\":print(\"quotient=\",a/b)\n",
    "           case\"%\":print(\"remainder=\",a%b)\n",
    "           case\"^\":print(\"power=\",a**b)\n",
    "           case\"_\":print(\"invalid choice\")"
   ]
  },
  {
   "cell_type": "code",
   "execution_count": 2,
   "id": "a3c32829-702c-4b89-b3da-f2ab34442314",
   "metadata": {},
   "outputs": [
    {
     "name": "stdin",
     "output_type": "stream",
     "text": [
      "enter a charcter: *&^234\n"
     ]
    },
    {
     "name": "stdout",
     "output_type": "stream",
     "text": [
      "character type= special charcter\n"
     ]
    }
   ],
   "source": [
    "#type of input\n",
    "def identify_character(char):\n",
    "    if char.islower():\n",
    "        return \"lower case\"\n",
    "    elif char.isupper():\n",
    "        return \"upper case\"\n",
    "    elif char.isdigit():\n",
    "        return \"numeric\"\n",
    "    else:\n",
    "        return \"special charcter\"\n",
    "input=input(\"enter a charcter:\")\n",
    "print(\"character type=\",identify_character(input))"
   ]
  },
  {
   "cell_type": "code",
   "execution_count": 1,
   "id": "47445214-9677-4665-861c-2b1afe98fd37",
   "metadata": {},
   "outputs": [
    {
     "name": "stdin",
     "output_type": "stream",
     "text": [
      "enter your number: 131\n"
     ]
    },
    {
     "name": "stdout",
     "output_type": "stream",
     "text": [
      "it is a palindrome\n"
     ]
    }
   ],
   "source": [
    "#palindrome of a given number\n",
    "n=int(input(\"enter your number:\"))\n",
    "m=n\n",
    "rev=0\n",
    "while n>0:\n",
    "         rem=n%10\n",
    "         rev=rev*10+rem\n",
    "         n=n//10\n",
    "if m==rev:\n",
    "      print(\"it is a palindrome\")\n",
    "else:\n",
    "     print(\"it is not a palindrome\")"
   ]
  },
  {
   "cell_type": "code",
   "execution_count": 2,
   "id": "41d66271-3dd4-456b-b396-05836132b65c",
   "metadata": {},
   "outputs": [
    {
     "name": "stdin",
     "output_type": "stream",
     "text": [
      "enter a number: 123456789\n"
     ]
    },
    {
     "name": "stdout",
     "output_type": "stream",
     "text": [
      "reversed digits: 987654321\n"
     ]
    }
   ],
   "source": [
    "#reversing a given number\n",
    "def reverse_digits(number):\n",
    "    return int(str(number)[::-1])\n",
    "number=int(input(\"enter a number:\"))\n",
    "print(\"reversed digits:\",reverse_digits(number))"
   ]
  },
  {
   "cell_type": "code",
   "execution_count": 2,
   "id": "26be8d7a-810f-4ed7-8b9a-77c8ed798cee",
   "metadata": {},
   "outputs": [
    {
     "name": "stdin",
     "output_type": "stream",
     "text": [
      "enter the number: 7\n"
     ]
    },
    {
     "name": "stdout",
     "output_type": "stream",
     "text": [
      "7 is prime\n"
     ]
    }
   ],
   "source": [
    "#prime number or not\n",
    "num=int(input(\"enter the number:\"))\n",
    "for i in range(2,num):\n",
    "    if(num%i)==0:\n",
    "        print(num,\"is not prime\")\n",
    "        break\n",
    "else:\n",
    "    print(num,\"is prime\")"
   ]
  },
  {
   "cell_type": "code",
   "execution_count": 2,
   "id": "12a3b047-27f5-45c2-b25f-2a4c865031ae",
   "metadata": {},
   "outputs": [
    {
     "name": "stdin",
     "output_type": "stream",
     "text": [
      "enter your number: 4\n"
     ]
    },
    {
     "name": "stdout",
     "output_type": "stream",
     "text": [
      "factorial is= 1\n",
      "factorial is= 2\n",
      "factorial is= 6\n",
      "factorial is= 24\n"
     ]
    }
   ],
   "source": [
    "#factorial\n",
    "num=int(input(\"enter your number:\"))\n",
    "fact=1\n",
    "if num<0:\n",
    "    print(\"enter a positive number\")\n",
    "elif num==0:\n",
    "    print(\"factorial of 0 is 1\")\n",
    "else:\n",
    "    for i in range(1,num+1):\n",
    "                     fact=fact*i\n",
    "                     print(\"factorial is=\",fact)"
   ]
  },
  {
   "cell_type": "code",
   "execution_count": 1,
   "id": "9c7a5136-5214-4e04-b509-bab2a98cb9c3",
   "metadata": {},
   "outputs": [
    {
     "name": "stdout",
     "output_type": "stream",
     "text": [
      "sum of the lists is: 4\n",
      "sum of the lists is: 11\n",
      "sum of the lists is: 20\n",
      "sum of the lists is: 30\n",
      "sum of the lists is: 86\n",
      "sum of the lists is: 164\n"
     ]
    }
   ],
   "source": [
    "list=[4,7,9,10,56,78]\n",
    "sum=0\n",
    "try:\n",
    "    for i in list:\n",
    "        sum=sum+i\n",
    "        print(\"sum of the lists is:\",sum)\n",
    "except:\n",
    "      print(\"unable to add string\")"
   ]
  },
  {
   "cell_type": "code",
   "execution_count": 5,
   "id": "70cffb32-40dd-42aa-92e7-ee95b1217ac4",
   "metadata": {},
   "outputs": [
    {
     "name": "stdout",
     "output_type": "stream",
     "text": [
      "7.933333333333334\n",
      "no error\n",
      "code excuted!!\n"
     ]
    }
   ],
   "source": [
    "grades={8.4:\"edhara\",7.5:\"kuruba\",7.9:\"putti\"}\n",
    "try:\n",
    "    total=sum(grades)\n",
    "    num=len(grades)\n",
    "    average=total/num\n",
    "    print(average)\n",
    "except ZeroDivisiorError:\n",
    "    print(\"dictionary is empty!!\")\n",
    "else:\n",
    "     print(\"no error\")\n",
    "finally:\n",
    "       print(\"code excuted!!\")"
   ]
  },
  {
   "cell_type": "code",
   "execution_count": null,
   "id": "3348d53d-92f5-49bf-bf0d-792c084266c5",
   "metadata": {},
   "outputs": [],
   "source": []
  }
 ],
 "metadata": {
  "kernelspec": {
   "display_name": "Python 3 (ipykernel)",
   "language": "python",
   "name": "python3"
  },
  "language_info": {
   "codemirror_mode": {
    "name": "ipython",
    "version": 3
   },
   "file_extension": ".py",
   "mimetype": "text/x-python",
   "name": "python",
   "nbconvert_exporter": "python",
   "pygments_lexer": "ipython3",
   "version": "3.12.3"
  }
 },
 "nbformat": 4,
 "nbformat_minor": 5
}
