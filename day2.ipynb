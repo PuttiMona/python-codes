{
 "cells": [
  {
   "cell_type": "markdown",
   "id": "b8f96416-01fc-42f8-8d95-fcacceb27e6d",
   "metadata": {},
   "source": []
  },
  {
   "cell_type": "code",
   "execution_count": 19,
   "id": "57595240-f835-4351-ac19-82999fbe482c",
   "metadata": {},
   "outputs": [
    {
     "name": "stdin",
     "output_type": "stream",
     "text": [
      "enter the name: Monashree\n",
      "enter the age:  19\n"
     ]
    },
    {
     "name": "stdout",
     "output_type": "stream",
     "text": [
      "Monashree\n",
      "you are elegible\n"
     ]
    }
   ],
   "source": [
    "Name=input(\"enter the name:\")\n",
    "age=int(input(\"enter the age: \"))\n",
    "\n",
    "\n",
    "if age>=18:\n",
    "        print(Name)\n",
    "        print(\"you are elegible\")\n",
    "else:\n",
    "    print(Name)\n",
    "    print(\"you are not elegible\")\n",
    "        "
   ]
  },
  {
   "cell_type": "code",
   "execution_count": 20,
   "id": "7cb827a9-0d82-4eae-8c04-e77923e38616",
   "metadata": {},
   "outputs": [
    {
     "name": "stdout",
     "output_type": "stream",
     "text": [
      "num2 is greater than num1\n"
     ]
    }
   ],
   "source": [
    "num1=10\n",
    "num2=20\n",
    "\n",
    "if num2>num1:\n",
    "    print(\"num2 is greater than num1\")\n",
    "else:\n",
    "    print(\"num1 is greater\")"
   ]
  },
  {
   "cell_type": "code",
   "execution_count": 23,
   "id": "bccb06ac-a267-4000-b3c3-156528ad3e8e",
   "metadata": {},
   "outputs": [
    {
     "name": "stdin",
     "output_type": "stream",
     "text": [
      " 4\n",
      " 3\n",
      " 2\n"
     ]
    },
    {
     "name": "stdout",
     "output_type": "stream",
     "text": [
      "a is largest\n"
     ]
    }
   ],
   "source": [
    "a=int(input())\n",
    "b=int(input())\n",
    "c=int(input())\n",
    "\n",
    "if a>b:\n",
    "     if a>c:\n",
    "         print(\"a is largest\")\n",
    "     else:\n",
    "         print(\"c is largest\")\n",
    "else:\n",
    "    if b>c:\n",
    "        print(\"b is largest\")\n",
    "    else:\n",
    "        print(\"c is largest\")\n",
    "        \n",
    "    "
   ]
  },
  {
   "cell_type": "code",
   "execution_count": 25,
   "id": "55f03cad-e0cf-457c-859e-477177dc4104",
   "metadata": {},
   "outputs": [
    {
     "name": "stdin",
     "output_type": "stream",
     "text": [
      " 3\n",
      " 2\n",
      " 1\n"
     ]
    },
    {
     "name": "stdout",
     "output_type": "stream",
     "text": [
      "c is smallest\n"
     ]
    }
   ],
   "source": [
    "a=int(input())\n",
    "b=int(input())\n",
    "c=int(input())\n",
    "\n",
    "if a<b:\n",
    "     if a<c:\n",
    "         print(\"a is smallest\")\n",
    "     else:\n",
    "         print(\"c is smallest\")\n",
    "else:\n",
    "    if b<c:\n",
    "        print(\"b is smallest\")\n",
    "    else:\n",
    "        print(\"c is smallest\")\n",
    "        \n",
    "    "
   ]
  },
  {
   "cell_type": "code",
   "execution_count": 29,
   "id": "13889a54-23ae-4f06-8053-749686d8920f",
   "metadata": {},
   "outputs": [
    {
     "name": "stdin",
     "output_type": "stream",
     "text": [
      "enter the marks 99\n"
     ]
    },
    {
     "name": "stdout",
     "output_type": "stream",
     "text": [
      "grade =A+\n"
     ]
    }
   ],
   "source": [
    "marks=int(input(\"enter the marks\"))\n",
    "if marks>=90 and marks<=100:\n",
    "    print(\"grade =A+\")\n",
    "else:\n",
    "    if marks>=80 and marks<90:\n",
    "       print(\"grade =A\")\n",
    "    else:\n",
    "        if marks>=70 and marks<80:\n",
    "           print(\"grade =B+\")\n",
    "        else:\n",
    "            if marks>=60 and marks<70:\n",
    "               print(\"grade =B\")\n",
    "            else:\n",
    "                if marks>=50 and marks<60:\n",
    "                   print(\"grade =C\")\n",
    "                else:\n",
    "                    if marks>=40 and marks<50:\n",
    "                        print(\"grade =D\")\n",
    "                    else:\n",
    "                        if marks>=30 and marks<40:\n",
    "                              print(\"grade =E\")\n",
    "                        else:\n",
    "                            if marks>=0 and marks<30:\n",
    "                                    print(\"grade =F\")\n",
    "                            else:\n",
    "                                print(\"invalid marks\")\n",
    "       \n",
    "         "
   ]
  },
  {
   "cell_type": "code",
   "execution_count": 29,
   "id": "e3f79516-2d37-461f-9cb8-df7452cbe2f5",
   "metadata": {},
   "outputs": [
    {
     "name": "stdin",
     "output_type": "stream",
     "text": [
      "enter the marks 99\n"
     ]
    },
    {
     "name": "stdout",
     "output_type": "stream",
     "text": [
      "grade =A+\n"
     ]
    }
   ],
   "source": [
    "marks=int(input(\"enter the marks\"))\n",
    "if marks>=90 and marks<=100:\n",
    "    print(\"grade =A+\")\n",
    "else:\n",
    "    if marks>=80 and marks<90:\n",
    "       print(\"grade =A\")\n",
    "    else:\n",
    "        if marks>=70 and marks<80:\n",
    "           print(\"grade =B+\")\n",
    "        else:\n",
    "            if marks>=60 and marks<70:\n",
    "               print(\"grade =B\")\n",
    "            else:\n",
    "                if marks>=50 and marks<60:\n",
    "                   print(\"grade =C\")\n",
    "                else:\n",
    "                    if marks>=40 and marks<50:\n",
    "                        print(\"grade =D\")\n",
    "                    else:\n",
    "                        if marks>=30 and marks<40:\n",
    "                              print(\"grade =E\")\n",
    "                        else:\n",
    "                            if marks>=0 and marks<30:\n",
    "                                    print(\"grade =F\")\n",
    "                            else:\n",
    "                                print(\"invalid marks\")\n",
    "       \n",
    "         "
   ]
  },
  {
   "cell_type": "code",
   "execution_count": 33,
   "id": "5f243a94-e68a-4d69-8ff6-caa09f075f55",
   "metadata": {},
   "outputs": [
    {
     "ename": "SyntaxError",
     "evalue": "invalid syntax (2991982324.py, line 3)",
     "output_type": "error",
     "traceback": [
      "\u001b[1;36m  Cell \u001b[1;32mIn[33], line 3\u001b[1;36m\u001b[0m\n\u001b[1;33m    case 1 :if marks>=90 and marks<=100:\u001b[0m\n\u001b[1;37m            ^\u001b[0m\n\u001b[1;31mSyntaxError\u001b[0m\u001b[1;31m:\u001b[0m invalid syntax\n"
     ]
    }
   ],
   "source": [
    "marks=int(input(\"enter the marks\"))\n",
    "match marks:\n",
    "           case 1 :if marks>=90 and marks<=100:\n",
    "                      print(\"grade =A+\")\n",
    "           case 2 :if marks>=80 and marks<90:\n",
    "                      print(\"grade =A\")\n",
    "           case 3 :if marks>=70 and marks<80:\n",
    "                      print(\"grade =B+\")\n",
    "           case 4: if marks>=60 and marks<70:\n",
    "                      print(\"grade =B\")\n",
    "           case 5: if marks>=50 and marks<60:\n",
    "                      print(\"grade =C\")\n",
    "           case 6: if marks>=40 and marks<50:\n",
    "                      print(\"grade =D\")\n",
    "           case 7: if marks>=30 and marks<40:\n",
    "                      print(\"grade =E\")\n",
    "           case 8: if marks>=0 and marks<30:\n",
    "                      print(\"grade =F\")\n",
    "           case_: print(\"invalid marks\")\n",
    "       \n",
    "         "
   ]
  },
  {
   "cell_type": "code",
   "execution_count": 39,
   "id": "9b1980b2-096f-4a19-b2aa-955c0ceefe31",
   "metadata": {},
   "outputs": [
    {
     "name": "stdin",
     "output_type": "stream",
     "text": [
      "enter the  no 2\n"
     ]
    },
    {
     "name": "stdout",
     "output_type": "stream",
     "text": [
      "Monday\n"
     ]
    }
   ],
   "source": [
    "Days=int(input(\"enter the  no\"))\n",
    "match Days:\n",
    "            case 1:print(\"Sunday\")\n",
    "            case 2:print(\"Monday\")\n",
    "            case 3:print(\"Tuesday\")\n",
    "            case 4:print(\"Wednesday\")\n",
    "            case 5:print(\"Thursday\")                                \n",
    "            case 6:print(\"friday\")\n",
    "            case 7:print(\"Saturday\")\n",
    "            case _:default(\"invalid no\")"
   ]
  },
  {
   "cell_type": "code",
   "execution_count": 34,
   "id": "e1aa2fd1-0da1-49d9-9aca-a281c97bd00d",
   "metadata": {},
   "outputs": [
    {
     "name": "stdout",
     "output_type": "stream",
     "text": [
      "0\n",
      "1\n",
      "2\n",
      "3\n",
      "4\n",
      "5\n",
      "6\n",
      "7\n",
      "8\n",
      "9\n",
      "0\n",
      "1\n",
      "2\n",
      "3\n",
      "4\n",
      "5\n",
      "6\n",
      "7\n",
      "8\n",
      "9\n"
     ]
    }
   ],
   "source": [
    "x=0\n",
    "while x<10:\n",
    "    print(x)\n",
    "    x=x+1\n",
    "\n",
    "\n",
    "for y in range(0,10):\n",
    "    print(y)"
   ]
  },
  {
   "cell_type": "code",
   "execution_count": 40,
   "id": "408f0cc2-bff7-4819-9d3d-e34370f498e6",
   "metadata": {},
   "outputs": [
    {
     "name": "stdout",
     "output_type": "stream",
     "text": [
      "0\n",
      "1\n",
      "2\n",
      "3\n",
      "4\n"
     ]
    }
   ],
   "source": [
    "for x in range(0,5):\n",
    "    print(x)\n",
    "    "
   ]
  },
  {
   "cell_type": "code",
   "execution_count": 43,
   "id": "620279e8-8638-41fc-9d9e-325d7ded2aa4",
   "metadata": {},
   "outputs": [
    {
     "name": "stdout",
     "output_type": "stream",
     "text": [
      "1\n",
      "2\n",
      "3\n",
      "4\n",
      "5\n",
      "6\n",
      "7\n",
      "8\n",
      "9\n"
     ]
    }
   ],
   "source": [
    "for x in range(1,10):\n",
    "    \n",
    "    print(x)\n",
    "    \n",
    "    "
   ]
  },
  {
   "cell_type": "code",
   "execution_count": 47,
   "id": "b6703bc0-bd0f-4676-b762-8d9242cd5c2e",
   "metadata": {},
   "outputs": [
    {
     "name": "stdout",
     "output_type": "stream",
     "text": [
      "* \n",
      "* * \n",
      "* * * \n",
      "* * * * \n",
      "* * * * * \n",
      "* * * * * * \n",
      "* * * * * * * \n",
      "* * * * * * * * \n",
      "* * * * * * * * * \n",
      "* * * * * * * * * * \n"
     ]
    }
   ],
   "source": [
    "for y in range(0,10):\n",
    "    for x in range(0,y+1):\n",
    "        print(\"*\",end=\" \")\n",
    "    print()"
   ]
  },
  {
   "cell_type": "code",
   "execution_count": 51,
   "id": "3f87a186-5a96-4faf-94f7-99ef517a0d65",
   "metadata": {},
   "outputs": [
    {
     "name": "stdin",
     "output_type": "stream",
     "text": [
      "enter the value of n:  0\n"
     ]
    },
    {
     "name": "stdout",
     "output_type": "stream",
     "text": [
      "0\n"
     ]
    }
   ],
   "source": [
    "n=int(input(\"enter the value of n: \"))\n",
    "if n==0:\n",
    "  print(n)\n",
    "else:\n",
    "   print(\"invalid choice\")"
   ]
  },
  {
   "cell_type": "code",
   "execution_count": 52,
   "id": "ca5a7740-300b-4321-bcf1-a1346a9a64a8",
   "metadata": {},
   "outputs": [
    {
     "name": "stdin",
     "output_type": "stream",
     "text": [
      "enter the length:  10\n"
     ]
    },
    {
     "name": "stdout",
     "output_type": "stream",
     "text": [
      "0 1 1 2 3 5 8 13 21 34 "
     ]
    }
   ],
   "source": [
    "a=0\n",
    "b=1\n",
    "n=int(input(\"enter the length: \"))\n",
    "print(a,b,end=\" \")\n",
    "\n",
    "for x in range(0,n-2):\n",
    "    c=a+b\n",
    "    print(c,end=\" \")\n",
    "    a=b\n",
    "    b=c"
   ]
  },
  {
   "cell_type": "code",
   "execution_count": 53,
   "id": "40a2a241-6c1e-4f09-8567-8244401a7f6c",
   "metadata": {},
   "outputs": [
    {
     "name": "stdin",
     "output_type": "stream",
     "text": [
      "enter the length:  10\n"
     ]
    },
    {
     "name": "stdout",
     "output_type": "stream",
     "text": [
      "0 1\n",
      "1\n",
      "2\n",
      "3\n",
      "5\n",
      "8\n",
      "13\n",
      "21\n",
      "34\n"
     ]
    }
   ],
   "source": [
    "a=0\n",
    "b=1\n",
    "n=int(input(\"enter the length: \"))\n",
    "print(a,b)\n",
    "\n",
    "for x in range(0,n-2):\n",
    "    c=a+b\n",
    "    print(c)\n",
    "    a=b\n",
    "    b=c"
   ]
  },
  {
   "cell_type": "code",
   "execution_count": null,
   "id": "ed44d96b-f13e-4863-a192-65bd8292e261",
   "metadata": {},
   "outputs": [],
   "source": []
  },
  {
   "cell_type": "code",
   "execution_count": null,
   "id": "79ae5acf-d7ce-49a8-b881-1017e1470f1f",
   "metadata": {},
   "outputs": [],
   "source": []
  }
 ],
 "metadata": {
  "kernelspec": {
   "display_name": "Python 3 (ipykernel)",
   "language": "python",
   "name": "python3"
  },
  "language_info": {
   "codemirror_mode": {
    "name": "ipython",
    "version": 3
   },
   "file_extension": ".py",
   "mimetype": "text/x-python",
   "name": "python",
   "nbconvert_exporter": "python",
   "pygments_lexer": "ipython3",
   "version": "3.12.3"
  }
 },
 "nbformat": 4,
 "nbformat_minor": 5
}
