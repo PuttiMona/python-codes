{
 "cells": [
  {
   "cell_type": "code",
   "execution_count": 1,
   "id": "a31b3abf-25d4-413c-b919-429dd10adfe3",
   "metadata": {},
   "outputs": [
    {
     "name": "stdout",
     "output_type": "stream",
     "text": [
      "[1, 2, 3, 4, 5]\n"
     ]
    }
   ],
   "source": [
    "a=[1,2,3,4,5]\n",
    "print(a)"
   ]
  },
  {
   "cell_type": "code",
   "execution_count": null,
   "id": "83bf14da-54aa-4395-aa68-6656fea916c1",
   "metadata": {},
   "outputs": [],
   "source": [
    "a=[10,20,30,40]\n",
    "print(a)\n",
    "print(type(a))"
   ]
  },
  {
   "cell_type": "code",
   "execution_count": null,
   "id": "40f4f9ca-48ad-4423-8c8b-7476a3e51020",
   "metadata": {},
   "outputs": [],
   "source": [
    "a=[10,20,30,\"mona\",0.5]\n",
    "print(a)\n",
    "for x in range(0,5):\n",
    "        print(a[x])"
   ]
  },
  {
   "cell_type": "code",
   "execution_count": null,
   "id": "b418a739-c504-4823-b595-2988ab7a7c04",
   "metadata": {},
   "outputs": [],
   "source": [
    "a=[10,20,30,\"mona\",0.5]\n",
    "print(a)\n",
    "print(type(a))\n",
    "for x in range(0,5):\n",
    "        print(a[x])"
   ]
  },
  {
   "cell_type": "code",
   "execution_count": 7,
   "id": "a8a257a1-42c4-47ac-ba16-758c9df24165",
   "metadata": {},
   "outputs": [
    {
     "name": "stdout",
     "output_type": "stream",
     "text": [
      "[10, 20, 30, 'mona', 0.5]\n",
      "<class 'float'>\n",
      "10\n",
      "20\n",
      "30\n",
      "mona\n",
      "0.5\n"
     ]
    }
   ],
   "source": [
    "a=[10,20,30,\"mona\",0.5]\n",
    "print(a)\n",
    "print(type(a[x]))\n",
    "for x in range(0,5):\n",
    "        print(a[x])\n",
    "    "
   ]
  },
  {
   "cell_type": "code",
   "execution_count": 4,
   "id": "d20f2208-e010-4bd2-a4da-71dca0f3bae2",
   "metadata": {},
   "outputs": [
    {
     "name": "stdout",
     "output_type": "stream",
     "text": [
      "[10, 20, 30, 'mona', 0.5]\n",
      "10\n",
      "20\n",
      "30\n",
      "mona\n",
      "0.5\n"
     ]
    }
   ],
   "source": [
    "a=[10,20,30,\"mona\",0.5]\n",
    "print(a)\n",
    "\n",
    "for x in range(0,5):\n",
    "        print(a[x])\n",
    "    "
   ]
  },
  {
   "cell_type": "code",
   "execution_count": 9,
   "id": "5713416b-395e-4303-9872-f53d3fb49ba1",
   "metadata": {},
   "outputs": [
    {
     "name": "stdout",
     "output_type": "stream",
     "text": [
      "[10, 20, 30.56, 'mona']\n",
      "<class 'str'>\n",
      "10\n",
      "20\n",
      "30.56\n",
      "mona\n"
     ]
    }
   ],
   "source": [
    "a=[10,20,30.56,\"mona\"]\n",
    "print(a)\n",
    "print(type(a[3]))\n",
    "for x in range(0,4):\n",
    "        print(a[x])\n"
   ]
  },
  {
   "cell_type": "code",
   "execution_count": 17,
   "id": "1b17d70a-f598-4467-966f-eb7c21dfea25",
   "metadata": {},
   "outputs": [
    {
     "name": "stdout",
     "output_type": "stream",
     "text": [
      "[1, 2, 3, 56]\n",
      "[1, 2, 3, 56, 34]\n",
      "[1, 2, 56, 3, 56, 34]\n",
      "[1, 2, 3, 56]\n"
     ]
    }
   ],
   "source": [
    "a=[1,2,3,56]\n",
    "b=a.copy()\n",
    "print(b)\n",
    "a.append(34)\n",
    "print(a)\n",
    "a.insert(2,56)\n",
    "print(a)\n",
    "b.sort(reverse=False)\n",
    "print(b)"
   ]
  },
  {
   "cell_type": "code",
   "execution_count": 18,
   "id": "e6a43617-33a0-4294-af4b-3ee1c1dbf10c",
   "metadata": {},
   "outputs": [
    {
     "name": "stdout",
     "output_type": "stream",
     "text": [
      "[1, 2, 3, 'mona']\n",
      "[1, 2, 3, 'mona', 34]\n",
      "[1, 2, 56, 3, 'mona', 34]\n"
     ]
    }
   ],
   "source": [
    "a=[1,2,3,\"mona\"]\n",
    "b=a.copy()\n",
    "print(b)\n",
    "a.append(34)\n",
    "print(a)\n",
    "a.insert(2,56)\n",
    "print(a)\n"
   ]
  },
  {
   "cell_type": "code",
   "execution_count": 20,
   "id": "02dd3a08-2048-4ee6-82a2-f01224b92d6c",
   "metadata": {},
   "outputs": [
    {
     "name": "stdout",
     "output_type": "stream",
     "text": [
      "1\n",
      "2\n",
      "3\n",
      "4\n",
      "5\n",
      "6\n",
      "7\n",
      "8\n",
      "9\n"
     ]
    }
   ],
   "source": [
    "a=[1,2,3,4,5,6,7,8,9]\n",
    "for x in a:\n",
    "    print(x)"
   ]
  },
  {
   "cell_type": "code",
   "execution_count": 3,
   "id": "1bdfe289-0b4c-453e-8299-4536be14c44c",
   "metadata": {},
   "outputs": [
    {
     "name": "stdin",
     "output_type": "stream",
     "text": [
      "enter the element of the list: 10 20 30 40 50\n"
     ]
    },
    {
     "name": "stdout",
     "output_type": "stream",
     "text": [
      "[10, 20, 30, 40, 50]\n"
     ]
    }
   ],
   "source": [
    "L = [int(item) for item in (input(\"enter the element of the list:\").split())]\n",
    "print(L)"
   ]
  },
  {
   "cell_type": "code",
   "execution_count": 5,
   "id": "110ce8bf-dae6-477d-b330-b840b63e728f",
   "metadata": {},
   "outputs": [
    {
     "name": "stdout",
     "output_type": "stream",
     "text": [
      "(1, 2, 3, 4, 'mona')\n"
     ]
    },
    {
     "ename": "NameError",
     "evalue": "name 'b' is not defined",
     "output_type": "error",
     "traceback": [
      "\u001b[1;31m---------------------------------------------------------------------------\u001b[0m",
      "\u001b[1;31mNameError\u001b[0m                                 Traceback (most recent call last)",
      "Cell \u001b[1;32mIn[5], line 3\u001b[0m\n\u001b[0;32m      1\u001b[0m a\u001b[38;5;241m=\u001b[39m(\u001b[38;5;241m1\u001b[39m,\u001b[38;5;241m2\u001b[39m,\u001b[38;5;241m3\u001b[39m,\u001b[38;5;241m4\u001b[39m,\u001b[38;5;124m\"\u001b[39m\u001b[38;5;124mmona\u001b[39m\u001b[38;5;124m\"\u001b[39m)\n\u001b[0;32m      2\u001b[0m \u001b[38;5;28mprint\u001b[39m(a)\n\u001b[1;32m----> 3\u001b[0m a\u001b[38;5;241m=\u001b[39m\u001b[38;5;28mtuple\u001b[39m(\u001b[43mb\u001b[49m)\n\u001b[0;32m      4\u001b[0m \u001b[38;5;28mprint\u001b[39m(b)\n",
      "\u001b[1;31mNameError\u001b[0m: name 'b' is not defined"
     ]
    }
   ],
   "source": [
    "a=(1,2,3,4,\"mona\")\n",
    "print(a)\n",
    "a=tuple(b)\n",
    "print(b)"
   ]
  },
  {
   "cell_type": "code",
   "execution_count": 9,
   "id": "1634f2e1-9524-41e6-b98f-4e71acb7ae4f",
   "metadata": {},
   "outputs": [
    {
     "name": "stdout",
     "output_type": "stream",
     "text": [
      "[1, 2, 3, 4]\n",
      "[[1, 2, 3, 4]]\n",
      "[[1, 2, 3, 4], [1, 2, 3, 4]]\n",
      "[[1, 2, 3, 4], [1, 2, 3, 4], [1, 2, 3, 4]]\n",
      "[[1, 2, 3, 4], [1, 2, 3, 4], [1, 2, 3, 4], [1, 2, 3, 4]]\n"
     ]
    }
   ],
   "source": [
    "a=[1,2,3,4]\n",
    "print(a)\n",
    "b=[]\n",
    "for item in reversed(a):\n",
    "   b.append(a)\n",
    "   print(b)\n",
    "    "
   ]
  },
  {
   "cell_type": "code",
   "execution_count": 10,
   "id": "8e0c528f-1cb6-4596-9629-916d3f0fe7ab",
   "metadata": {},
   "outputs": [
    {
     "name": "stdout",
     "output_type": "stream",
     "text": [
      "[1, 2, 3, 4]\n",
      "[4]\n",
      "[4, 3]\n",
      "[4, 3, 2]\n",
      "[4, 3, 2, 1]\n"
     ]
    }
   ],
   "source": [
    "a=[1,2,3,4]\n",
    "print(a)\n",
    "b=[]\n",
    "for item in reversed(a):\n",
    "   b.append(item)\n",
    "   print(b)\n",
    "    "
   ]
  },
  {
   "cell_type": "code",
   "execution_count": 13,
   "id": "0ec9aacd-ae50-4d97-900b-429e0da25591",
   "metadata": {},
   "outputs": [
    {
     "name": "stdout",
     "output_type": "stream",
     "text": [
      "9\n",
      "8\n",
      "7\n",
      "6\n",
      "5\n",
      "4\n",
      "3\n",
      "2\n",
      "1\n"
     ]
    }
   ],
   "source": [
    "a=(1,2,3,4,5,6,7,8,9)\n",
    "for x in range(-1,-1*(len(a)+1),-1):\n",
    "    print(a[x])"
   ]
  },
  {
   "cell_type": "code",
   "execution_count": 14,
   "id": "7e4f0f8f-886a-49eb-bfce-b997d29ace51",
   "metadata": {},
   "outputs": [
    {
     "name": "stdout",
     "output_type": "stream",
     "text": [
      "7\n",
      "6\n",
      "5\n",
      "4\n",
      "3\n",
      "2\n",
      "1\n"
     ]
    }
   ],
   "source": [
    "#another way\n",
    "a=(1,2,3,4,5,6,7)\n",
    "for x in range(0,len(a)):\n",
    "    print(a[-1*(x+1)])"
   ]
  },
  {
   "cell_type": "code",
   "execution_count": 16,
   "id": "a099ad5c-48fe-4bcc-8088-4cf4273db815",
   "metadata": {},
   "outputs": [
    {
     "name": "stdout",
     "output_type": "stream",
     "text": [
      "{1: 'mona', 2: 'shree'}\n",
      "shree\n"
     ]
    }
   ],
   "source": [
    "D={1:\"mona\",2:\"shree\"}\n",
    "print(D)\n",
    "print(D[2])\n"
   ]
  },
  {
   "cell_type": "code",
   "execution_count": 17,
   "id": "7995a87d-807d-4f54-9405-a21feb93b655",
   "metadata": {},
   "outputs": [
    {
     "name": "stdout",
     "output_type": "stream",
     "text": [
      "{1: 'mona', 2: 'shree'}\n",
      "shree\n",
      "dict_keys([1, 2])\n"
     ]
    }
   ],
   "source": [
    "D={1:\"mona\",2:\"shree\"}\n",
    "print(D)\n",
    "print(D[2])\n",
    "print(D.keys())\n"
   ]
  },
  {
   "cell_type": "code",
   "execution_count": 18,
   "id": "1e475613-8626-47c4-a3e2-0d61184c1fb0",
   "metadata": {},
   "outputs": [
    {
     "name": "stdout",
     "output_type": "stream",
     "text": [
      "{1: 'mona', 2: 'shree'}\n",
      "shree\n",
      "dict_keys([1, 2])\n",
      "dict_values(['mona', 'shree'])\n",
      "dict_items([(1, 'mona'), (2, 'shree')])\n"
     ]
    }
   ],
   "source": [
    "D={1:\"mona\",2:\"shree\"}\n",
    "print(D)\n",
    "print(D[2])\n",
    "print(D.keys())\n",
    "print(D.values())\n",
    "print(D.items())\n"
   ]
  },
  {
   "cell_type": "code",
   "execution_count": null,
   "id": "9b0b8ce5-b5a9-4cfb-90e8-e92dbfde2a75",
   "metadata": {},
   "outputs": [],
   "source": [
    "#write a prog to take key and value as input from the user and add it into the dictionary if key is not \n",
    "#present in the dictionary otherwise print key is already exist and print its value\n",
    "D="
   ]
  },
  {
   "cell_type": "code",
   "execution_count": 19,
   "id": "600c54a7-2a75-47eb-b5e2-86d25b4221ac",
   "metadata": {},
   "outputs": [
    {
     "ename": "SyntaxError",
     "evalue": "invalid syntax (2337431790.py, line 1)",
     "output_type": "error",
     "traceback": [
      "\u001b[1;36m  Cell \u001b[1;32mIn[19], line 1\u001b[1;36m\u001b[0m\n\u001b[1;33m    key=int(input(\"enter the key\":))\u001b[0m\n\u001b[1;37m                                 ^\u001b[0m\n\u001b[1;31mSyntaxError\u001b[0m\u001b[1;31m:\u001b[0m invalid syntax\n"
     ]
    }
   ],
   "source": [
    "key=int(input(\"enter the key\":))\n",
    "val=input(\"enter the  value:\")"
   ]
  },
  {
   "cell_type": "code",
   "execution_count": 2,
   "id": "9ac0099d-2289-4170-ba64-7c48ac4848d6",
   "metadata": {},
   "outputs": [
    {
     "name": "stdin",
     "output_type": "stream",
     "text": [
      "enter the index: 2\n"
     ]
    },
    {
     "name": "stdout",
     "output_type": "stream",
     "text": [
      "3\n"
     ]
    }
   ],
   "source": [
    "a=[1,2,3,4,5,6,7,8,9]\n",
    "i=int(input(\"enter the index:\"))\n",
    "try:\n",
    "    print(a[i])\n",
    "except:\n",
    "    print(\"no such index found\") "
   ]
  },
  {
   "cell_type": "code",
   "execution_count": null,
   "id": "161db223-422b-4afd-a2da-2653b3203bdf",
   "metadata": {},
   "outputs": [],
   "source": []
  }
 ],
 "metadata": {
  "kernelspec": {
   "display_name": "Python 3 (ipykernel)",
   "language": "python",
   "name": "python3"
  },
  "language_info": {
   "codemirror_mode": {
    "name": "ipython",
    "version": 3
   },
   "file_extension": ".py",
   "mimetype": "text/x-python",
   "name": "python",
   "nbconvert_exporter": "python",
   "pygments_lexer": "ipython3",
   "version": "3.12.3"
  }
 },
 "nbformat": 4,
 "nbformat_minor": 5
}
