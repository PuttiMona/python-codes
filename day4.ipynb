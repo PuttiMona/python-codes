{
 "cells": [
  {
   "cell_type": "code",
   "execution_count": null,
   "id": "21384702-e2bb-4cf7-a7c8-7f25ed2e6676",
   "metadata": {},
   "outputs": [],
   "source": [
    "a=input()\n",
    "flag=0\n",
    "for i in range (0,in(len(a)/2"
   ]
  },
  {
   "cell_type": "code",
   "execution_count": 19,
   "id": "388a96ad-540a-46cd-a845-c60b2e4d14f3",
   "metadata": {},
   "outputs": [
    {
     "name": "stdin",
     "output_type": "stream",
     "text": [
      "enter the number 7\n"
     ]
    },
    {
     "name": "stdout",
     "output_type": "stream",
     "text": [
      "7 it is not a prime\n"
     ]
    }
   ],
   "source": [
    "n=int(input(\"enter the number\"))\n",
    "for i in range(2,n):\n",
    "    if(n%i)==0:\n",
    "          print(n,\"  a prime\")\n",
    "          break\n",
    "    else:\n",
    "        print(n,\"it is not a prime\")\n",
    "        break\n",
    "\n",
    "     "
   ]
  },
  {
   "cell_type": "code",
   "execution_count": 18,
   "id": "1b146e3a-a056-41bd-b7d4-c9a6702a4949",
   "metadata": {},
   "outputs": [
    {
     "name": "stdin",
     "output_type": "stream",
     "text": [
      " 7\n"
     ]
    },
    {
     "name": "stdout",
     "output_type": "stream",
     "text": [
      "it is a prime\n"
     ]
    }
   ],
   "source": [
    "a=int(input())\n",
    "for i in range(2,int(a/2)):\n",
    "  if a%i==0:\n",
    "       print(\"not a prime\")\n",
    "       break\n",
    "  else:\n",
    "    print(\"it is a prime\")\n",
    "    break"
   ]
  },
  {
   "cell_type": "code",
   "execution_count": 18,
   "id": "f40f9642-2965-41ca-8598-a17f3858d947",
   "metadata": {},
   "outputs": [
    {
     "name": "stdin",
     "output_type": "stream",
     "text": [
      " 7\n"
     ]
    },
    {
     "name": "stdout",
     "output_type": "stream",
     "text": [
      "it is a prime\n"
     ]
    }
   ],
   "source": [
    "a=int(input())\n",
    "for i in range(2,int(a/2)):\n",
    "  if a%i==0:\n",
    "       print(\"not a prime\")\n",
    "       break\n",
    "  else:\n",
    "    print(\"it is a prime\")\n",
    "    break"
   ]
  },
  {
   "cell_type": "code",
   "execution_count": null,
   "id": "6fe702ac-4044-48c6-8f99-655b502ed9e4",
   "metadata": {},
   "outputs": [],
   "source": [
    "if_name_=='_main_':\n",
    "filename=\"exaample.txt\"\n",
    "new_filename=\"new_example.txt\"\n",
    "\n",
    "create_file(filename)\n",
    "read_file(filename)\n",
    "append_file(filename,\"this is some additional txt.\\n\")\n",
    "read_file(filename)\n",
    "rename_file(filename,new_filename)\n",
    "read_filename(new_filename)"
   ]
  },
  {
   "cell_type": "code",
   "execution_count": 24,
   "id": "78e83881-6138-4441-b57d-a8fea8a06ce3",
   "metadata": {},
   "outputs": [],
   "source": [
    "import os\n",
    "\n",
    "with open(\"file1.txt\",'w') as f:\n",
    "     f.write(\"this is fist text in file \\n\")\n",
    "     f.close()\n",
    "\n",
    "\n"
   ]
  },
  {
   "cell_type": "code",
   "execution_count": 26,
   "id": "5da26fd7-1797-4951-8beb-3507b6126bd8",
   "metadata": {},
   "outputs": [],
   "source": [
    "import os\n",
    "\n",
    "with open(\"file1.txt\",'a')as f:\n",
    "     f.write(\"this is second text in file \\n\")\n",
    "     f.close()\n"
   ]
  },
  {
   "cell_type": "code",
   "execution_count": 28,
   "id": "4a8667c3-d0ef-461b-a045-df39e3971c60",
   "metadata": {},
   "outputs": [],
   "source": [
    "import os\n",
    "\n",
    "with open(\"file1.txt\",'a')as f:\n",
    "     f.write(\"this is third text in file \\n\")\n",
    "     f.close()"
   ]
  },
  {
   "cell_type": "code",
   "execution_count": 32,
   "id": "bbe64f22-3d87-4ca0-baff-0ad1ad3f12ad",
   "metadata": {},
   "outputs": [],
   "source": [
    "import os\n",
    "os.remove(\"file2.txt\")"
   ]
  },
  {
   "cell_type": "code",
   "execution_count": 31,
   "id": "54267067-e7fe-4458-b039-150431198759",
   "metadata": {},
   "outputs": [],
   "source": [
    "import os\n",
    "\n",
    "with open(\"file2.txt\",'a')as f:\n",
    "     f.write(\"this is second text in file \\n\")\n",
    "     f.close()"
   ]
  },
  {
   "cell_type": "code",
   "execution_count": 9,
   "id": "0a93fe35-5ad7-4cce-b273-251b56ff318b",
   "metadata": {},
   "outputs": [
    {
     "name": "stdout",
     "output_type": "stream",
     "text": [
      "[1, 2, 3, 4, 5]\n"
     ]
    },
    {
     "ename": "SyntaxError",
     "evalue": "'break' outside loop (3411724783.py, line 5)",
     "output_type": "error",
     "traceback": [
      "\u001b[1;36m  Cell \u001b[1;32mIn[9], line 5\u001b[1;36m\u001b[0m\n\u001b[1;33m    break\u001b[0m\n\u001b[1;37m    ^\u001b[0m\n\u001b[1;31mSyntaxError\u001b[0m\u001b[1;31m:\u001b[0m 'break' outside loop\n"
     ]
    }
   ],
   "source": [
    "L=[1,2,3,4,5]\n",
    "print(L)\n",
    "if n in range(0,5):\n",
    "    print(\"list\")\n",
    "    br\n",
    "else:\n",
    "    print(\"not a list\")\n",
    "    break"
   ]
  },
  {
   "cell_type": "code",
   "execution_count": null,
   "id": "21af5463-3793-4615-b9c6-9b789bcb9a30",
   "metadata": {},
   "outputs": [],
   "source": [
    "L=[1,2,3,4,5]\n",
    "print(L)\n",
    "for n in range(0,5):\n",
    "    if "
   ]
  },
  {
   "cell_type": "code",
   "execution_count": null,
   "id": "d32cb277-aa64-4cba-8de3-9b7317e22b98",
   "metadata": {},
   "outputs": [],
   "source": [
    "import os\n",
    "\n",
    "   with open(\"fruit_name\",'w')as f:\n",
    "      n=int(input(\"enter the Fruit name\") )\n",
    "      f.close()\n",
    "    "
   ]
  },
  {
   "cell_type": "code",
   "execution_count": 10,
   "id": "3efbbe42-3502-458a-96ea-00a20618e432",
   "metadata": {},
   "outputs": [
    {
     "name": "stdout",
     "output_type": "stream",
     "text": [
      "apple \n",
      "banana\n",
      "mango\n",
      "grapes \n",
      "\n",
      "apple \n",
      "watermelon\n",
      "mango\n",
      "grapes \n",
      "\n"
     ]
    }
   ],
   "source": [
    "import os\n",
    "\n",
    "with open(\"fruit_name\",'w') as f:\n",
    "     \n",
    "    f.write(\"apple \\n\") \n",
    "    f.write(\"banana\\n\") \n",
    "    f.write(\"mango\\n\") \n",
    "    f.write(\"grapes \\n\") \n",
    "with open(\"fruit_name\",'r')as f:\n",
    "    a=f.read()\n",
    "    print(a)\n",
    "    y=a.replace(\"banana\",\"watermelon\",1)\n",
    "    print(y)"
   ]
  },
  {
   "cell_type": "code",
   "execution_count": 6,
   "id": "ff409b3f-03d7-463d-a5d7-d36142ced7b9",
   "metadata": {},
   "outputs": [
    {
     "ename": "AttributeError",
     "evalue": "'_io.TextIOWrapper' object has no attribute 'remove'",
     "output_type": "error",
     "traceback": [
      "\u001b[1;31m---------------------------------------------------------------------------\u001b[0m",
      "\u001b[1;31mAttributeError\u001b[0m                            Traceback (most recent call last)",
      "Cell \u001b[1;32mIn[6], line 5\u001b[0m\n\u001b[0;32m      1\u001b[0m \u001b[38;5;28;01mimport\u001b[39;00m \u001b[38;5;21;01mos\u001b[39;00m\n\u001b[0;32m      3\u001b[0m \u001b[38;5;28;01mwith\u001b[39;00m \u001b[38;5;28mopen\u001b[39m(\u001b[38;5;124m\"\u001b[39m\u001b[38;5;124mfruit_name\u001b[39m\u001b[38;5;124m\"\u001b[39m,\u001b[38;5;124m'\u001b[39m\u001b[38;5;124mw+\u001b[39m\u001b[38;5;124m'\u001b[39m) \u001b[38;5;28;01mas\u001b[39;00m f:\n\u001b[1;32m----> 5\u001b[0m         \u001b[43mf\u001b[49m\u001b[38;5;241;43m.\u001b[39;49m\u001b[43mremove\u001b[49m(\u001b[38;5;124m\"\u001b[39m\u001b[38;5;124mbanana\u001b[39m\u001b[38;5;124m\"\u001b[39m)\n\u001b[0;32m      6\u001b[0m         f\u001b[38;5;241m.\u001b[39mwrite(\u001b[38;5;124m\"\u001b[39m\u001b[38;5;124mwatermelon \u001b[39m\u001b[38;5;130;01m\\n\u001b[39;00m\u001b[38;5;124m\"\u001b[39m)\n\u001b[0;32m      7\u001b[0m         f\u001b[38;5;241m.\u001b[39mclose\n",
      "\u001b[1;31mAttributeError\u001b[0m: '_io.TextIOWrapper' object has no attribute 'remove'"
     ]
    }
   ],
   "source": [
    "import os\n",
    "\n",
    "with open(\"fruit_name\",'w+') as f:\n",
    "\n",
    "        f.remove(\"banana\")\n",
    "        f.write(\"watermelon \\n\")\n",
    "        f.close"
   ]
  },
  {
   "cell_type": "code",
   "execution_count": 12,
   "id": "1249a983-13ba-4b74-a7b0-abbcea00e6bb",
   "metadata": {},
   "outputs": [
    {
     "name": "stdin",
     "output_type": "stream",
     "text": [
      " aeiou\n"
     ]
    },
    {
     "name": "stdout",
     "output_type": "stream",
     "text": [
      "vowel\n"
     ]
    }
   ],
   "source": [
    "a=input()\n",
    "s='aeiouAEIOU'\n",
    "if a in s:\n",
    "    print(\"vowel\")\n",
    "else:\n",
    "    print(\"not a vowel\")"
   ]
  },
  {
   "cell_type": "code",
   "execution_count": 15,
   "id": "e4208690-a6d6-455f-b71e-e2959317b719",
   "metadata": {},
   "outputs": [
    {
     "ename": "SyntaxError",
     "evalue": "expression cannot contain assignment, perhaps you meant \"==\"? (3323251667.py, line 4)",
     "output_type": "error",
     "traceback": [
      "\u001b[1;36m  Cell \u001b[1;32mIn[15], line 4\u001b[1;36m\u001b[0m\n\u001b[1;33m    print(i.end= \" \")\u001b[0m\n\u001b[1;37m          ^\u001b[0m\n\u001b[1;31mSyntaxError\u001b[0m\u001b[1;31m:\u001b[0m expression cannot contain assignment, perhaps you meant \"==\"?\n"
     ]
    }
   ],
   "source": [
    "s=input()\n",
    "for i in s:\n",
    "    if i in 'aeiouAEIOU':\n",
    "        print(i.end= \" \")"
   ]
  },
  {
   "cell_type": "code",
   "execution_count": 26,
   "id": "35b81a12-86f4-464e-a80a-97e085013f9d",
   "metadata": {},
   "outputs": [
    {
     "name": "stdin",
     "output_type": "stream",
     "text": [
      " 5\n"
     ]
    },
    {
     "name": "stdout",
     "output_type": "stream",
     "text": [
      "odd\n"
     ]
    }
   ],
   "source": [
    "a=int(input())\n",
    "if a%2==0:\n",
    "         print(\"even\")\n",
    "else:\n",
    "     print(\"odd\")"
   ]
  },
  {
   "cell_type": "code",
   "execution_count": 28,
   "id": "2ed82392-52cf-443d-ac87-ac955afb15df",
   "metadata": {},
   "outputs": [
    {
     "name": "stdin",
     "output_type": "stream",
     "text": [
      " 3\n"
     ]
    },
    {
     "name": "stdout",
     "output_type": "stream",
     "text": [
      "false\n"
     ]
    }
   ],
   "source": [
    "a=int(input())\n",
    "if a>9:\n",
    "    print(\"true\")\n",
    "else:\n",
    "    print(\"false\")\n"
   ]
  },
  {
   "cell_type": "code",
   "execution_count": 36,
   "id": "07a9f9b4-5fe7-4a5e-9590-0683ae94ec6e",
   "metadata": {},
   "outputs": [
    {
     "name": "stdin",
     "output_type": "stream",
     "text": [
      " 2\n",
      " 4\n"
     ]
    },
    {
     "name": "stdout",
     "output_type": "stream",
     "text": [
      "a is smallest\n"
     ]
    }
   ],
   "source": [
    "a=int(input())\n",
    "b=int(input())\n",
    "if a>b:\n",
    "        print(\"a is largest \")\n",
    "else:\n",
    "        print(\"a is smallest\")\n"
   ]
  },
  {
   "cell_type": "code",
   "execution_count": 42,
   "id": "4522105d-0703-4d2e-acd2-b04d1119bf47",
   "metadata": {},
   "outputs": [
    {
     "name": "stdin",
     "output_type": "stream",
     "text": [
      " 456\n",
      " 287\n",
      " 274\n"
     ]
    },
    {
     "name": "stdout",
     "output_type": "stream",
     "text": [
      "a is larger than c \n"
     ]
    }
   ],
   "source": [
    "a=int(input())\n",
    "b=int(input())\n",
    "c=int(input())\n",
    "if a>b:\n",
    "    if b>c:\n",
    "        print(\"a is larger than c \")\n",
    "    else:\n",
    "        print(\"b is smaller than c\")\n",
    "else:\n",
    "    print(\"a is smallerr than b\")\n",
    "    if c>b:\n",
    "        print(\"c is lagrer than b\")\n",
    "    else:\n",
    "        print(\"c is smaller than b\")"
   ]
  },
  {
   "cell_type": "code",
   "execution_count": null,
   "id": "4d2098b7-faea-4185-a347-c5f8732ef885",
   "metadata": {},
   "outputs": [],
   "source": []
  }
 ],
 "metadata": {
  "kernelspec": {
   "display_name": "Python 3 (ipykernel)",
   "language": "python",
   "name": "python3"
  },
  "language_info": {
   "codemirror_mode": {
    "name": "ipython",
    "version": 3
   },
   "file_extension": ".py",
   "mimetype": "text/x-python",
   "name": "python",
   "nbconvert_exporter": "python",
   "pygments_lexer": "ipython3",
   "version": "3.12.3"
  }
 },
 "nbformat": 4,
 "nbformat_minor": 5
}
